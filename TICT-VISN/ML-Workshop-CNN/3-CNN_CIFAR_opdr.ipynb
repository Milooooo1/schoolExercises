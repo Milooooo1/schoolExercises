{
 "cells": [
  {
   "cell_type": "code",
   "execution_count": 1,
   "metadata": {
    "colab": {
     "base_uri": "https://localhost:8080/",
     "height": 299
    },
    "colab_type": "code",
    "id": "owuMk_guREX5",
    "outputId": "ba7cd846-f092-473b-e412-32461a6d779b"
   },
   "outputs": [],
   "source": [
    "import numpy as np\n",
    "import matplotlib.pyplot as plt\n",
    "import mnist\n",
    "import tensorflow as tf\n",
    "from keras.models import Sequential\n",
    "from keras.layers import Conv2D, MaxPooling2D, Dense, Flatten, Dropout\n",
    "from keras.utils import to_categorical\n",
    "from keras.datasets import cifar10\n",
    "\n",
    "from scriptss.load_data import load_train, load_test"
   ]
  },
  {
   "cell_type": "markdown",
   "metadata": {},
   "source": [
    "## CNN bouwen"
   ]
  },
  {
   "cell_type": "code",
   "execution_count": 2,
   "metadata": {
    "colab": {},
    "colab_type": "code",
    "id": "p_lLaBNewZk0"
   },
   "outputs": [
    {
     "name": "stdout",
     "output_type": "stream",
     "text": [
      "(28, 31)\n"
     ]
    }
   ],
   "source": [
    "# Het importeren en bewerken van de data \n",
    "train_images, train_labels = load_train()\n",
    "test_images, test_labels = load_test()\n",
    "\n",
    "# Normalizeren van de images\n",
    "train_images = (train_images / 255) - 0.5\n",
    "test_images = (test_images / 255) - 0.5\n",
    "\n",
    "print(train_images[0].shape)\n",
    "# Reshapen van de images zodat ze de juiste dimensies hebben\n",
    "train_images = np.expand_dims(train_images, axis=3)\n",
    "test_images = np.expand_dims(test_images, axis=3)"
   ]
  },
  {
   "cell_type": "code",
   "execution_count": 6,
   "metadata": {
    "colab": {},
    "colab_type": "code",
    "id": "nFleZ8yEyFtk"
   },
   "outputs": [],
   "source": [
    "## Onze CNN\n",
    "\n",
    "# Stap 1: bepaal hoeveel filters je wilt, hoe groot je filter size moet zijn (let op je filter size \n",
    "# mag niet te groot zijn vergeleken met je images), en wat je pool size is. \n",
    "num_filters = 3\n",
    "filter_size = (28 * 31) #868\n",
    "pool_size = 100\n",
    "\n",
    "# Stap 2: maak het model.\n",
    "#    In de array die je aan sequential meegeeft, zet je alle layers die in het model moeten:\n",
    "#    Conv2D, parameters: num_filters, filter_size, input_shape=(x, y, z)\n",
    "#    MaxPooling2D, parameters: pool_size=pool_size\n",
    "#    Flatten,\n",
    "#    Dense, parameters: aantal outputs, activation='softmax'\n",
    "\n",
    "model = Sequential([])\n",
    "model.add(Conv2D(3, (3, 3), padding='same', activation='relu', input_shape=train_images.shape[1:]))\n",
    "model.add(Conv2D(5, (3, 3), padding='same', activation='relu', input_shape=train_images.shape[1:]))\n",
    "model.add(MaxPooling2D(pool_size=(3, 3)))\n",
    "model.add(Flatten())\n",
    "model.add(Dense(128, activation='relu'))\n",
    "model.add(Dense(10, activation='softmax'))\n",
    "\n",
    "#model.summary()"
   ]
  },
  {
   "cell_type": "code",
   "execution_count": 7,
   "metadata": {
    "colab": {},
    "colab_type": "code",
    "id": "he8Zs-Sd2TID"
   },
   "outputs": [
    {
     "name": "stdout",
     "output_type": "stream",
     "text": [
      "Epoch 1/9\n",
      "1875/1875 [==============================] - 7s 3ms/step - loss: 0.5534 - accuracy: 0.8456\n",
      "Epoch 2/9\n",
      "1875/1875 [==============================] - 6s 3ms/step - loss: 0.1283 - accuracy: 0.9624\n",
      "Epoch 3/9\n",
      "1875/1875 [==============================] - 6s 3ms/step - loss: 0.0854 - accuracy: 0.9729\n",
      "Epoch 4/9\n",
      "1875/1875 [==============================] - 6s 3ms/step - loss: 0.0636 - accuracy: 0.9795\n",
      "Epoch 5/9\n",
      "1875/1875 [==============================] - 6s 3ms/step - loss: 0.0519 - accuracy: 0.9833\n",
      "Epoch 6/9\n",
      "1875/1875 [==============================] - 6s 3ms/step - loss: 0.0412 - accuracy: 0.9870\n",
      "Epoch 7/9\n",
      "1875/1875 [==============================] - 6s 3ms/step - loss: 0.0371 - accuracy: 0.9880\n",
      "Epoch 8/9\n",
      "1875/1875 [==============================] - 6s 3ms/step - loss: 0.0312 - accuracy: 0.9904\n",
      "Epoch 9/9\n",
      "1875/1875 [==============================] - 6s 3ms/step - loss: 0.0250 - accuracy: 0.9925\n"
     ]
    },
    {
     "data": {
      "text/plain": [
       "<tensorflow.python.keras.callbacks.History at 0x25c549875e0>"
      ]
     },
     "execution_count": 7,
     "metadata": {},
     "output_type": "execute_result"
    }
   ],
   "source": [
    "# Stap 3: het compilen van het model. \n",
    "# model.compile parameters: 'adam', loss='categorial_crossentropy', metrics=['accuracy']\n",
    "model.compile(optimizer='adam',\n",
    "              loss='sparse_categorical_crossentropy',\n",
    "              metrics=['accuracy'])\n",
    "\n",
    "\n",
    "# Stap 4: fit het model. \n",
    "#    Data om op te trainen: train_images, to_categorial(train_labels)\n",
    "#    epochs = 3\n",
    "#    validation_data = test_images, to_categorial(test_labels)\n",
    "model.fit(train_images, train_labels, epochs=9)"
   ]
  },
  {
   "cell_type": "code",
   "execution_count": 8,
   "metadata": {},
   "outputs": [
    {
     "name": "stdout",
     "output_type": "stream",
     "text": [
      "313/313 [==============================] - 1s 2ms/step - loss: 0.9796 - accuracy: 0.7496\n",
      "0.7495999932289124\n"
     ]
    }
   ],
   "source": [
    "# Stap 5: evalueer het model\n",
    "test_loss, test_acc = model.evaluate(test_images,  test_labels)#, verbose=2)#to_categorical(test_labels), verbose=2)\n",
    "print(test_acc)"
   ]
  },
  {
   "cell_type": "code",
   "execution_count": null,
   "metadata": {
    "colab": {},
    "colab_type": "code",
    "id": "pS8vERMeHh8j"
   },
   "outputs": [],
   "source": [
    "# Stap 6: extra layer(s). Wat gebeurt er als je een extra Conv Layer toevoegd aan je model? \n",
    "#    Voeg een extra layer(s) toe en train het model opnieuw. \n",
    "# Stap 7: parameters. Wat gebeurt er bijvoorbeeld als je geen softmax gebruikt maar een andere activatie? \n",
    "#    Pas op z'n minst 1 parameter aan en train je model opnieuw. \n",
    "\n",
    "#(softmax ipv relu verminderd de accuracy van 90% naar 70%)\n",
    "#Een Dense (relu) layer minder maakt nauwelijks verschil\n",
    "\n",
    "predictions = model.predict([test_images])\n",
    "\n",
    "import random\n",
    "index = random.randint(0,len(test_images))\n",
    "print(\"index: \" + str(index))\n",
    "print(np.argmax(predictions[index]))\n",
    "plt.imshow(test_images[index])\n",
    "plt.show()"
   ]
  },
  {
   "cell_type": "markdown",
   "metadata": {},
   "source": [
    "## CIFAR-10"
   ]
  },
  {
   "cell_type": "code",
   "execution_count": 13,
   "metadata": {},
   "outputs": [
    {
     "data": {
      "image/png": "[encoded data removed]",
      "text/plain": [
       "<Figure size 432x288 with 1 Axes>"
      ]
     },
     "metadata": {
      "needs_background": "light"
     },
     "output_type": "display_data"
    },
    {
     "name": "stdout",
     "output_type": "stream",
     "text": [
      "(50000, 32, 32, 3)\n",
      "[9]\n"
     ]
    }
   ],
   "source": [
    "# Data inladen\n",
    "(train_images10, train_labels10), (test_images10, test_labels10) = cifar10.load_data()\n",
    "\n",
    "plt.imshow(train_images10[4])\n",
    "plt.show()\n",
    "\n",
    "# Normalizeren\n",
    "train_images10, test_images10 = train_images10 / 255.0, test_images10 / 255.0\n",
    "print(train_images10.shape)\n",
    "print(train_labels10[1])"
   ]
  },
  {
   "cell_type": "code",
   "execution_count": null,
   "metadata": {},
   "outputs": [],
   "source": [
    "# Stap 8: bouw je eigen CNN voor de CIFAR-10 dataset. \n",
    "# Tip: gebruik meerdere Conv2D en MaxPooling layers\n",
    "# LET OP: gebruik 'softmax' alleen bij je laatste Dense layer. Gebruik 'relu' voor de andere Conv2D/Dense layers. \n",
    "\n",
    "input_shape = (32, 32, 3)\n",
    "n_classes = 10\n",
    "\n",
    "model_cif = Sequential([])\n",
    "\n",
    "model_cif.add(Conv2D(32, (3, 3), padding='same', activation='relu', input_shape=input_shape))\n",
    "model_cif.add(Conv2D(32, (3, 3), activation='relu'))\n",
    "model_cif.add(MaxPooling2D(pool_size=(2,2)))\n",
    "model_cif.add(Dropout(0.4))\n",
    "\n",
    "model_cif.add(Conv2D(64, (3, 3), padding='same', activation='relu'))\n",
    "model_cif.add(Conv2D(64, (3, 3), activation='relu'))\n",
    "model_cif.add(MaxPooling2D(pool_size=(2,2)))\n",
    "model_cif.add(Dropout(0.4))\n",
    "\n",
    "model_cif.add(Conv2D(64, (3, 3), padding='same', activation='relu'))\n",
    "model_cif.add(Conv2D(64, (3, 3), activation='relu'))\n",
    "model_cif.add(MaxPooling2D(pool_size=(2,2)))\n",
    "model_cif.add(Dropout(0.4))\n",
    "\n",
    "model_cif.add(Flatten())\n",
    "model_cif.add(Dense(512, activation='relu'))\n",
    "model_cif.add(Dropout(0.5))\n",
    "model_cif.add(Dense(n_classes, activation='softmax'))\n",
    "\n",
    "model_cif.compile(\n",
    "    optimizer='adam',\n",
    "    loss='categorical_crossentropy',\n",
    "    metrics=['accuracy'],\n",
    ")"
   ]
  },
  {
   "cell_type": "code",
   "execution_count": null,
   "metadata": {},
   "outputs": [],
   "source": [
    "model_cif.fit(\n",
    "  train_images10,\n",
    "  to_categorical(train_labels10),\n",
    "  epochs= 15,#hint: meer dan 3,\n",
    "  validation_data=(test_images10, to_categorical(test_labels10)),\n",
    ")\n",
    "\n",
    "model_cif.summary()"
   ]
  },
  {
   "cell_type": "code",
   "execution_count": 9,
   "metadata": {},
   "outputs": [],
   "source": [
    "#model_cif.save(r'C:\\Users\\Milo\\OneDrive - Stichting Hogeschool Utrecht\\Jaar 2\\Blok 3\\VISN\\ML-Workshop-CNN\\first-cifar-10.model')\n",
    "\n",
    "loaded_cif_model = tf.keras.models.load_model(r'C:\\Users\\Milo\\OneDrive - Stichting Hogeschool Utrecht\\Jaar 2\\Blok 3\\VISN\\ML-Workshop-CNN\\first-cifar-10.model')\n",
    "#loaded_cif_model.fit(\n",
    "#  train_images10,\n",
    "#  to_categorical(train_labels10),\n",
    "#  epochs= 10,#hint: meer dan 3,\n",
    "#  validation_data=(test_images10, to_categorical(test_labels10)),\n",
    "#)"
   ]
  },
  {
   "cell_type": "code",
   "execution_count": 10,
   "metadata": {},
   "outputs": [],
   "source": [
    "#loaded_cif_model.save(r'C:\\Users\\Milo\\OneDrive - Stichting Hogeschool Utrecht\\Jaar 2\\Blok 3\\VISN\\ML-Workshop-CNN\\first-cifar-10.model')\n"
   ]
  },
  {
   "cell_type": "code",
   "execution_count": 14,
   "metadata": {},
   "outputs": [
    {
     "name": "stdout",
     "output_type": "stream",
     "text": [
      "313/313 - 3s - loss: 0.8000 - accuracy: 0.7287\n"
     ]
    }
   ],
   "source": [
    "test_loss, test_acc = loaded_cif_model.evaluate(test_images10,  to_categorical(test_labels10), verbose=2)"
   ]
  },
  {
   "cell_type": "code",
   "execution_count": 15,
   "metadata": {},
   "outputs": [
    {
     "name": "stdout",
     "output_type": "stream",
     "text": [
      "0.7286999821662903\n"
     ]
    }
   ],
   "source": [
    "print(test_acc)"
   ]
  },
  {
   "cell_type": "markdown",
   "metadata": {},
   "source": [
    "## Bronnen\n",
    "* https://victorzhou.com/blog/keras-cnn-tutorial/ Bezocht: 9/3/2020\n",
    "* https://www.tensorflow.org/tutorials/images/cnn Bezocht: 13/3/2020"
   ]
  },
  {
   "cell_type": "code",
   "execution_count": null,
   "metadata": {},
   "outputs": [],
   "source": []
  }
 ],
 "metadata": {
  "colab": {
   "collapsed_sections": [],
   "name": "Workshop_CNN.ipynb",
   "provenance": []
  },
  "kernelspec": {
   "display_name": "Python 3",
   "language": "python",
   "name": "python3"
  },
  "language_info": {
   "codemirror_mode": {
    "name": "ipython",
    "version": 3
   },
   "file_extension": ".py",
   "mimetype": "text/x-python",
   "name": "python",
   "nbconvert_exporter": "python",
   "pygments_lexer": "ipython3",
   "version": "3.8.5"
  }
 },
 "nbformat": 4,
 "nbformat_minor": 4
}
